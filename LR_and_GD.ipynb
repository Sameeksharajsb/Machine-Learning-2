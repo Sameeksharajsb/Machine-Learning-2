{
 "cells": [
  {
   "cell_type": "markdown",
   "metadata": {},
   "source": [
    "# Logistic Regression & Gradient Descent\n",
    "This demo implments a Logistic Regression (LR) model and illustrates how to solve LR via Gradient Descent (GD)."
   ]
  },
  {
   "cell_type": "code",
   "execution_count": 72,
   "metadata": {},
   "outputs": [
    {
     "name": "stdout",
     "output_type": "stream",
     "text": [
      "This data set is given with 569 sampels and 30 features\n",
      "Total class # is 2\n",
      "{0, 1}\n",
      "[[1.799e+01 1.038e+01 1.228e+02 1.001e+03 1.184e-01]\n",
      " [2.057e+01 1.777e+01 1.329e+02 1.326e+03 8.474e-02]\n",
      " [1.969e+01 2.125e+01 1.300e+02 1.203e+03 1.096e-01]]\n",
      "[[ 1.09706398 -2.07333501  1.26993369  0.9843749   1.56846633]\n",
      " [ 1.82982061 -0.35363241  1.68595471  1.90870825 -0.82696245]\n",
      " [ 1.57988811  0.45618695  1.56650313  1.55888363  0.94221044]]\n"
     ]
    }
   ],
   "source": [
    "%matplotlib inline\n",
    "\n",
    "import math\n",
    "import numpy as np\n",
    "import matplotlib.pyplot as plt\n",
    "from pdb import set_trace as st\n",
    "from sklearn.datasets import load_breast_cancer\n",
    "from sklearn.preprocessing import StandardScaler\n",
    "\n",
    "# Load the breast cancer wisconsin dataset for binary classification\n",
    "X, y = load_breast_cancer(return_X_y=True)\n",
    "N,D = X.shape\n",
    "assert len(X)==len(y), print('inequal # of samples and labels')\n",
    "print('This data set is given with {} sampels and {} features'.format(N, D))\n",
    "print('Total class # is {}'.format(len(set(y))))\n",
    "print(set(y))\n",
    "# Feature normalization is helpful for classification\n",
    "print(X[:3,:5])\n",
    "scaler = StandardScaler().fit(X)\n",
    "X_n = scaler.transform(X)\n",
    "print(X_n[:3,:5])"
   ]
  },
  {
   "cell_type": "code",
   "execution_count": 73,
   "metadata": {},
   "outputs": [
    {
     "name": "stdout",
     "output_type": "stream",
     "text": [
      "(456, 30)\n",
      "(113, 30)\n"
     ]
    }
   ],
   "source": [
    "def data_split(X, y, ratio):\n",
    "    ind = np.random.choice(len(y), int(ratio*len(y)), replace=False)\n",
    "    ind = np.sort(ind)\n",
    "    # print(ind)\n",
    "    ind_trn = [i for i in range(len(y)) if i not in ind]\n",
    "    X_trn, y_trn = X[ind_trn], y[ind_trn]\n",
    "    X_tst, y_tst = X[ind], y[ind]\n",
    "    return [X_trn, y_trn], [X_tst, y_tst]\n",
    "\n",
    "# We do random sampling and save a seed for repeating results\n",
    "np.random.seed(0)\n",
    "trn, tst = data_split(X_n,y, ratio=0.2)\n",
    "print(trn[0].shape)\n",
    "print(tst[0].shape)"
   ]
  },
  {
   "cell_type": "markdown",
   "metadata": {},
   "source": [
    "## Build a LR model\n",
    "$y = f(x) = \\sigma(\\mathbf{w}^{T}\\mathbf{x}+b), \\mathbf{w} \\in \\mathrm{R}^{D}$ \n",
    "\n",
    "Let dataset be $\\mathbf{X} \\in \\mathrm{R}^{N \\times D}$, we have $\\mathbf{x}_i \\in \\mathbf{X}, y_i = f(\\mathbf{x}_i)$, which, in matrix form, is $\\hat{\\mathbf{y}} = \\sigma(\\mathbf{X}\\mathbf{w}+b)$\n",
    "\n",
    "Note that: $\\mathbf{X}\\mathbf{w}+b$ is equivalent to $[\\mathbf{X}; \\mathbf{1}] \\mathbf{w}$, where $\\mathbf{w} = [w_1,\\dots,w_D,b] \\in \\mathrm{R}^{D+1}$.\n",
    "\n",
    "$\\nabla \\mathbf{w} = \\frac{1}{N} \\sum_{i=1}^{N} (f(\\mathbf{x}_i)-y_i)\\mathbf{x}_i\n",
    "=\\frac{1}{N} \\mathbf{X}^{T} (\\hat{\\mathbf{y}} - \\mathbf{y})$"
   ]
  },
  {
   "cell_type": "code",
   "execution_count": 74,
   "metadata": {},
   "outputs": [
    {
     "name": "stdout",
     "output_type": "stream",
     "text": [
      "[0.09202759 0.05596583 0.08653249 0.23717329 0.83951297 0.52237053\n",
      " 0.51307486 0.64983197 0.54459088 0.0324653  0.58015172 0.77108905\n",
      " 0.37622657 0.49102474 0.98163968 0.24465141 0.3743232  0.04565964\n",
      " 0.31006764 0.8315194  0.80702284 0.64002416 0.3681024  0.3127533\n",
      " 0.80183615 0.07044719 0.68357296 0.38072924 0.63393096 0.92687909\n",
      " 0.        ]\n",
      "(456, 31)\n",
      "(113, 31)\n"
     ]
    }
   ],
   "source": [
    "# Let’s random intialize w first\n",
    "w0 = np.random.rand(D+1)\n",
    "w0[-1] = 0\n",
    "print(w0)\n",
    "# Concatenate constant 1s to X_trn and X_tst\n",
    "trn[0] = np.hstack((trn[0], np.ones((len(trn[0]),1))))\n",
    "tst[0] = np.hstack((tst[0], np.ones((len(tst[0]),1))))\n",
    "print(trn[0].shape)\n",
    "print(tst[0].shape)"
   ]
  },
  {
   "cell_type": "code",
   "execution_count": 41,
   "metadata": {},
   "outputs": [
    {
     "name": "stdout",
     "output_type": "stream",
     "text": [
      "[1. 1. 1. 1. 1. 1. 1. 1. 1. 1. 1. 1. 1. 1. 1. 1. 1. 1. 1. 1. 1. 1. 1. 1.\n",
      " 1. 1. 1. 1. 1. 1. 1. 1. 1. 1. 1. 1. 1. 1. 1. 1. 1. 1. 1. 1. 1. 1. 1. 1.\n",
      " 1. 1. 1. 1. 1. 1. 1. 1. 1. 1. 1. 1. 1. 1. 1. 1. 1. 1. 1. 1. 1. 1. 1. 1.\n",
      " 1. 1. 1. 1. 1. 1. 1. 1. 1. 1. 1. 1. 1. 1. 1. 1. 1. 1. 1. 1. 1. 1. 1. 1.\n",
      " 1. 1. 1. 1. 1. 1. 1. 1. 1. 1. 1. 1. 1. 1. 1. 1. 1. 1. 1. 1. 1. 1. 1. 1.\n",
      " 1. 1. 1. 1. 1. 1. 1. 1. 1. 1. 1. 1. 1. 1. 1. 1. 1. 1. 1. 1. 1. 1. 1. 1.\n",
      " 1. 1. 1. 1. 1. 1. 1. 1. 1. 1. 1. 1. 1. 1. 1. 1. 1. 1. 1. 1. 1. 1. 1. 1.\n",
      " 1. 1. 1. 1. 1. 1. 1. 1. 1. 1. 1. 1. 1. 1. 1. 1. 1. 1. 1. 1. 1. 1. 1. 1.\n",
      " 1. 1. 1. 1. 1. 1. 1. 1. 1. 1. 1. 1. 1. 1. 1. 1. 1. 1. 1. 1. 1. 1. 1. 1.\n",
      " 1. 1. 1. 1. 1. 1. 1. 1. 1. 1. 1. 1. 1. 1. 1. 1. 1. 1. 1. 1. 1. 1. 1. 1.\n",
      " 1. 1. 1. 1. 1. 1. 1. 1. 1. 1. 1. 1. 1. 1. 1. 1. 1. 1. 1. 1. 1. 1. 1. 1.\n",
      " 1. 1. 1. 1. 1. 1. 1. 1. 1. 1. 1. 1. 1. 1. 1. 1. 1. 1. 1. 1. 1. 1. 1. 1.\n",
      " 1. 1. 1. 1. 1. 1. 1. 1. 1. 1. 1. 1. 1. 1. 1. 1. 1. 1. 1. 1. 1. 1. 1. 1.\n",
      " 1. 1. 1. 1. 1. 1. 1. 1. 1. 1. 1. 1. 1. 1. 1. 1. 1. 1. 1. 1. 1. 1. 1. 1.\n",
      " 1. 1. 1. 1. 1. 1. 1. 1. 1. 1. 1. 1. 1. 1. 1. 1. 1. 1. 1. 1. 1. 1. 1. 1.\n",
      " 1. 1. 1. 1. 1. 1. 1. 1. 1. 1. 1. 1. 1. 1. 1. 1. 1. 1. 1. 1. 1. 1. 1. 1.\n",
      " 1. 1. 1. 1. 1. 1. 1. 1. 1. 1. 1. 1. 1. 1. 1. 1. 1. 1. 1. 1. 1. 1. 1. 1.\n",
      " 1. 1. 1. 1. 1. 1. 1. 1. 1. 1. 1. 1. 1. 1. 1. 1. 1. 1. 1. 1. 1. 1. 1. 1.\n",
      " 1. 1. 1. 1. 1. 1. 1. 1. 1. 1. 1. 1. 1. 1. 1. 1. 1. 1. 1. 1. 1. 1. 1. 1.]\n",
      "[6.33355263e+00 7.74598684e+00 4.18041228e+01 3.56635307e+02\n",
      " 3.72708772e-02 5.21986404e-02 5.74172807e-02 3.19659649e-02\n",
      " 6.98157895e-02 2.25933553e-02 2.22340351e-01 4.33207018e-01\n",
      " 1.56052851e+00 2.68246930e+01 2.40901316e-03 1.13781645e-02\n",
      " 1.44193640e-02 5.29406579e-03 7.37032675e-03 1.41976754e-03\n",
      " 7.68697368e+00 1.05625000e+01 5.13199781e+01 5.22346711e+02\n",
      " 5.24874781e-02 1.35051864e-01 1.59527149e-01 6.62469956e-02\n",
      " 1.17690351e-01 3.29214035e-02 3.61842105e-01]\n"
     ]
    }
   ],
   "source": [
    "from scipy.special import expit\n",
    "def sigmoid(z):\n",
    "    return 1 / (1 + np.exp(-z))\n",
    "def LR(X, w):\n",
    "    return expit(np.matmul(X, w))\n",
    "\n",
    "y_trn = LR(trn[0], w0)\n",
    "print(y_trn)\n",
    "\n",
    "delta_w = np.matmul(trn[0].T, (y_trn-trn[1])) / len(trn[0])\n",
    "print(delta_w)"
   ]
  },
  {
   "cell_type": "code",
   "execution_count": 75,
   "metadata": {},
   "outputs": [
    {
     "name": "stdout",
     "output_type": "stream",
     "text": [
      "0.0\n",
      "0.0\n"
     ]
    },
    {
     "name": "stderr",
     "output_type": "stream",
     "text": [
      "<ipython-input-41-11d64e5169eb>:3: RuntimeWarning: overflow encountered in exp\n",
      "  return 1 / (1 + np.exp(-z))\n"
     ]
    }
   ],
   "source": [
    "# Check the overflow issue\n",
    "print(sigmoid(-1e3))\n",
    "print(expit(-1e3))"
   ]
  },
  {
   "cell_type": "code",
   "execution_count": 99,
   "metadata": {},
   "outputs": [
    {
     "name": "stdout",
     "output_type": "stream",
     "text": [
      "400\n",
      "0.007697934811666566\n",
      "[0.09202759 0.05596583 0.08653249 0.23717329 0.83951297 0.52237053\n",
      " 0.51307486 0.64983197 0.54459088 0.0324653  0.58015172 0.77108905\n",
      " 0.37622657 0.49102474 0.98163968 0.24465141 0.3743232  0.04565964\n",
      " 0.31006764 0.8315194  0.80702284 0.64002416 0.3681024  0.3127533\n",
      " 0.80183615 0.07044719 0.68357296 0.38072924 0.63393096 0.92687909\n",
      " 0.        ]\n",
      "[-0.60681205 -0.81233552 -0.62808199 -0.51280545 -0.18209886 -0.07190057\n",
      " -0.48312732 -0.46592111 -0.26394842 -0.13603098 -0.62448847  0.1059247\n",
      " -0.64851371 -0.47380046  0.47432931  0.14777082  0.20195824 -0.37808033\n",
      "  0.09256444  0.75678261 -0.19811697 -0.61561342 -0.59892091 -0.68297331\n",
      " -0.57285537 -0.60863784 -0.27491616 -0.74130261 -0.30815864  0.17792981\n",
      "  0.61048118]\n"
     ]
    }
   ],
   "source": [
    "def GD(dataset, w, lr=0.1, thres=1e-4, maxIter=400):\n",
    "    w = np.copy(w)\n",
    "    X,y = dataset\n",
    "    i = 0\n",
    "    while i<maxIter:\n",
    "        y_pred = LR(X,w)\n",
    "        delta_w = np.matmul(X.T, (y_pred-y)) / len(X)\n",
    "        obj = np.max(np.absolute(delta_w))\n",
    "        w -= lr*delta_w\n",
    "        if obj < thres:\n",
    "            break\n",
    "        i += 1\n",
    "    print(i)\n",
    "    print(obj)\n",
    "    return w\n",
    "w_star = GD(trn, w0)\n",
    "print(w0)\n",
    "print(w_star)"
   ]
  },
  {
   "cell_type": "code",
   "execution_count": 100,
   "metadata": {},
   "outputs": [
    {
     "name": "stdout",
     "output_type": "stream",
     "text": [
      "training acc=0.987\n",
      "testing acc=0.956\n"
     ]
    }
   ],
   "source": [
    "def com_acc(score, gnd):\n",
    "    y_hat = np.zeros(score.shape)\n",
    "    y_hat[score>0.5] = 1\n",
    "    return (y_hat==gnd).sum() / len(gnd)\n",
    "# prediction score on the training set\n",
    "y_trn = LR(trn[0],w_star)\n",
    "print(\"training acc={:.3f}\".format(com_acc(y_trn, trn[1])))\n",
    "# prediction score on the testing set\n",
    "y_tst = LR(tst[0],w_star)\n",
    "print(\"testing acc={:.3f}\".format(com_acc(y_tst, tst[1])))"
   ]
  },
  {
   "cell_type": "code",
   "execution_count": 88,
   "metadata": {},
   "outputs": [
    {
     "data": {
      "text/plain": [
       "LogisticRegression(max_iter=400, penalty='none')"
      ]
     },
     "execution_count": 88,
     "metadata": {},
     "output_type": "execute_result"
    }
   ],
   "source": [
    "# Let now see the sklearn implmentation\n",
    "from sklearn.linear_model import LogisticRegression\n",
    "model = LogisticRegression(penalty='none', max_iter=400)\n",
    "model.fit(trn[0],trn[1])"
   ]
  },
  {
   "cell_type": "code",
   "execution_count": 96,
   "metadata": {},
   "outputs": [
    {
     "name": "stdout",
     "output_type": "stream",
     "text": [
      "Sklern LR training acc=1.000\n",
      "Sklern LR testing acc=0.956\n"
     ]
    }
   ],
   "source": [
    "# Compute the accuracy with with Sklearn probability predictions\n",
    "print(\"Sklern LR training acc={:.3f}\".format(com_acc(model.predict_proba(trn[0])[:,1], trn[1])))\n",
    "print(\"Sklern LR testing acc={:.3f}\".format(com_acc(model.predict_proba(tst[0])[:,1], tst[1])))"
   ]
  },
  {
   "cell_type": "code",
   "execution_count": 94,
   "metadata": {},
   "outputs": [
    {
     "name": "stdout",
     "output_type": "stream",
     "text": [
      "Sklern LR training acc=1.000\n",
      "Sklern LR testing acc=0.956\n"
     ]
    }
   ],
   "source": [
    "# Double the accuracy with with Sklearn-implemented functions\n",
    "print(\"Sklern LR training acc={:.3f}\".format(model.score(trn[0], trn[1])))\n",
    "print(\"Sklern LR testing acc={:.3f}\".format(model.score(tst[0], tst[1])))"
   ]
  },
  {
   "cell_type": "code",
   "execution_count": null,
   "metadata": {},
   "outputs": [],
   "source": []
  }
 ],
 "metadata": {
  "kernelspec": {
   "display_name": "Python 3",
   "language": "python",
   "name": "python3"
  },
  "language_info": {
   "codemirror_mode": {
    "name": "ipython",
    "version": 3
   },
   "file_extension": ".py",
   "mimetype": "text/x-python",
   "name": "python",
   "nbconvert_exporter": "python",
   "pygments_lexer": "ipython3",
   "version": "3.8.2"
  }
 },
 "nbformat": 4,
 "nbformat_minor": 4
}
